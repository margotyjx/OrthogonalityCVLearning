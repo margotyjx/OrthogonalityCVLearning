{
 "cells": [
  {
   "cell_type": "code",
   "execution_count": 2,
   "id": "3684ec88-86f7-42be-8816-94926d16babf",
   "metadata": {},
   "outputs": [],
   "source": [
    "import numpy as np"
   ]
  },
  {
   "cell_type": "markdown",
   "id": "5214b15b-6d27-44a8-a141-6ce70ab857a5",
   "metadata": {},
   "source": [
    "## FFS result"
   ]
  },
  {
   "cell_type": "code",
   "execution_count": 9,
   "id": "b36163ed-e545-4073-8071-bb978502ff48",
   "metadata": {},
   "outputs": [
    {
     "name": "stdout",
     "output_type": "stream",
     "text": [
      "rhoA: 0.9911, sigma_rhoA: 0.0719\n",
      "rhoB: 0.0089, sigma_rhoB: 0.0719\n",
      "nuAB: 1.3181e-04, sigma_nu: 1.3516e-05\n"
     ]
    }
   ],
   "source": [
    "# Given values\n",
    "k_AB = 1.33e-4\n",
    "sigma_k_AB = 9.6427e-6 \n",
    "\n",
    "k_BA = 1.475e-2\n",
    "sigma_k_BA = 1.9623e-3\n",
    "\n",
    "# Compute rho_B\n",
    "rho_B = 1 / (1 + k_BA / k_AB)\n",
    "\n",
    "# Compute rho_A\n",
    "rho_A = 1 - rho_B\n",
    "\n",
    "# Propagate uncertainty for rho_B using first-order Taylor expansion\n",
    "drho_B_dk_BA = -1 / (k_AB + k_BA) ** 2 * k_AB  # Partial derivative w.r.t. k_BA\n",
    "drho_B_dk_AB = k_BA / (k_AB * (k_AB + k_BA))  # Partial derivative w.r.t. k_AB\n",
    "\n",
    "sigma_rho_B = np.sqrt((drho_B_dk_BA * sigma_k_BA) ** 2 + (drho_B_dk_AB * sigma_k_AB) ** 2)\n",
    "\n",
    "# Propagate uncertainty for rho_A\n",
    "sigma_rho_A = sigma_rho_B  # Since rho_A = 1 - rho_B\n",
    "\n",
    "print(f'rhoA: {rho_A:.4f}, sigma_rhoA: {sigma_rho_A:.4f}')\n",
    "print(f'rhoB: {rho_B:.4f}, sigma_rhoB: {sigma_rho_B:.4f}')\n",
    "\n",
    "# Compute product P = rho_A * k_AB\n",
    "nu_AB = rho_A * k_AB\n",
    "\n",
    "# Propagate uncertainty for P\n",
    "relative_uncertainty_P = np.sqrt((sigma_rho_A / rho_A) ** 2 + (sigma_k_AB / k_AB) ** 2)\n",
    "sigma_nu = relative_uncertainty_P * nu_AB\n",
    "\n",
    "# Confidence interval\n",
    "lower_bound = nu_AB - sigma_nu\n",
    "upper_bound = nu_AB + sigma_nu\n",
    "\n",
    "# Results\n",
    "print(f'nuAB: {nu_AB:.4e}, sigma_nu: {sigma_nu:.4e}')\n"
   ]
  },
  {
   "cell_type": "markdown",
   "id": "da2b3515-108b-4191-b68b-fb1d5b59b8a1",
   "metadata": {},
   "source": [
    "# Brute force"
   ]
  },
  {
   "cell_type": "code",
   "execution_count": 11,
   "id": "3f5571be-f1f0-4e52-8fc1-b814f5a86882",
   "metadata": {},
   "outputs": [
    {
     "name": "stdout",
     "output_type": "stream",
     "text": [
      "bf_k_AB: Value = 1.4873e-04, Uncertainty = 7.5373e-05\n",
      "bf_k_BA: Value = 3.0065e-02, Uncertainty = 2.7914e-02\n",
      "bf_rho_A: Value = 9.9508e-01, Uncertainty = 3.8296e-03\n",
      "bf_rho_B: Value = 4.9226e-03, Uncertainty = 3.8296e-03\n",
      "bf_rho_AB: Value = 6.6600e-03, Uncertainty = 6.2687e-03\n",
      "bf_nu_AB: Value = 1.4800e-04, Uncertainty = 7.5000e-05\n"
     ]
    }
   ],
   "source": [
    "Ntotal = 50000\n",
    "bf_Nab = 7.4\n",
    "bf_Nab_sd = 3.75\n",
    "bf_TinA = 4.9421e+4\n",
    "bf_TinA_sd = 2.4815e+2\n",
    "bf_TinB = 5.3652e+1\n",
    "bf_TinB_sd = 6.049e+1\n",
    "bf_TlastA = 4.9754e+4\n",
    "bf_TlastA_sd = 1.9148e+2\n",
    "bf_TlastB = 2.4613e+2\n",
    "bf_TlastB_sd = 1.9148e+2\n",
    "\n",
    "# Compute values and their uncertainties using error propagation (Taylor expansion)\n",
    "\n",
    "# k_AB = Nab / TlastA\n",
    "bf_k_AB = bf_Nab / bf_TlastA\n",
    "bf_sigma_k_AB = bf_k_AB * np.sqrt((bf_Nab_sd / bf_Nab) ** 2 + (bf_TlastA_sd / bf_TlastA) ** 2)\n",
    "\n",
    "# k_BA = Nab / TlastB\n",
    "bf_k_BA = bf_Nab / bf_TlastB\n",
    "bf_sigma_k_BA = bf_k_BA * np.sqrt((bf_Nab_sd / bf_Nab) ** 2 + (bf_TlastB_sd / bf_TlastB) ** 2)\n",
    "\n",
    "# rho_A = TlastA / Ntotal\n",
    "bf_rho_A = bf_TlastA / Ntotal\n",
    "bf_sigma_rho_A = bf_rho_A * (bf_TlastA_sd / bf_TlastA)\n",
    "\n",
    "# rho_B = TlastB / Ntotal\n",
    "bf_rho_B = bf_TlastB / Ntotal\n",
    "bf_sigma_rho_B = bf_rho_B * (bf_TlastB_sd / bf_TlastB)\n",
    "\n",
    "# rho_AB = (TlastA - TinA) / Ntotal\n",
    "bf_rho_AB = (bf_TlastA - bf_TinA) / Ntotal\n",
    "bf_sigma_rho_AB = (1 / Ntotal) * np.sqrt(bf_TlastA_sd ** 2 + bf_TinA_sd ** 2)\n",
    "\n",
    "# nu_AB = Nab / Ntotal\n",
    "bf_nu_AB = bf_Nab / Ntotal\n",
    "bf_sigma_nu_AB = bf_nu_AB * (bf_Nab_sd / bf_Nab)\n",
    "\n",
    "# Display results\n",
    "results = {\n",
    "    \"bf_k_AB\": (bf_k_AB, bf_sigma_k_AB),\n",
    "    \"bf_k_BA\": (bf_k_BA, bf_sigma_k_BA),\n",
    "    \"bf_rho_A\": (bf_rho_A, bf_sigma_rho_A),\n",
    "    \"bf_rho_B\": (bf_rho_B, bf_sigma_rho_B),\n",
    "    \"bf_rho_AB\": (bf_rho_AB, bf_sigma_rho_AB),\n",
    "    \"bf_nu_AB\": (bf_nu_AB, bf_sigma_nu_AB),\n",
    "}\n",
    "\n",
    "for key, (value, uncertainty) in results.items():\n",
    "    print(f\"{key}: Value = {value:.4e}, Uncertainty = {uncertainty:.4e}\")\n"
   ]
  }
 ],
 "metadata": {
  "kernelspec": {
   "display_name": "Python 3 (ipykernel)",
   "language": "python",
   "name": "python3"
  },
  "language_info": {
   "codemirror_mode": {
    "name": "ipython",
    "version": 3
   },
   "file_extension": ".py",
   "mimetype": "text/x-python",
   "name": "python",
   "nbconvert_exporter": "python",
   "pygments_lexer": "ipython3",
   "version": "3.10.13"
  }
 },
 "nbformat": 4,
 "nbformat_minor": 5
}
