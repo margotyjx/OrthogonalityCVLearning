{
 "cells": [
  {
   "cell_type": "code",
   "execution_count": 2,
   "id": "3684ec88-86f7-42be-8816-94926d16babf",
   "metadata": {},
   "outputs": [],
   "source": [
    "import numpy as np"
   ]
  },
  {
   "cell_type": "code",
   "execution_count": 6,
   "id": "b36163ed-e545-4073-8071-bb978502ff48",
   "metadata": {},
   "outputs": [
    {
     "name": "stdout",
     "output_type": "stream",
     "text": [
      "rhoA: 0.9579, sigma_rhoA: 0.0647\n",
      "rhoB: 0.0421, sigma_rhoB: 0.0647\n",
      "nuAB: 1.7419e-03, sigma_nu: 1.6598e-04\n"
     ]
    }
   ],
   "source": [
    "# Given values\n",
    "k_AB = 1.33e-4\n",
    "sigma_k_AB = 9.6427e-6 \n",
    "\n",
    "k_BA = 1.475e-2\n",
    "sigma_k_BA = 1.9623e-3\n",
    "\n",
    "# Compute rho_B\n",
    "rho_B = 1 / (1 + k_BA / k_AB)\n",
    "\n",
    "# Compute rho_A\n",
    "rho_A = 1 - rho_B\n",
    "\n",
    "# Propagate uncertainty for rho_B using first-order Taylor expansion\n",
    "drho_B_dk_BA = -1 / (k_AB + k_BA) ** 2 * k_AB  # Partial derivative w.r.t. k_BA\n",
    "drho_B_dk_AB = k_BA / (k_AB * (k_AB + k_BA))  # Partial derivative w.r.t. k_AB\n",
    "\n",
    "sigma_rho_B = np.sqrt((drho_B_dk_BA * sigma_k_BA) ** 2 + (drho_B_dk_AB * sigma_k_AB) ** 2)\n",
    "\n",
    "# Propagate uncertainty for rho_A\n",
    "sigma_rho_A = sigma_rho_B  # Since rho_A = 1 - rho_B\n",
    "\n",
    "print(f'rhoA: {rho_A:.4f}, sigma_rhoA: {sigma_rho_A:.4f}')\n",
    "print(f'rhoB: {rho_B:.4f}, sigma_rhoB: {sigma_rho_B:.4f}')\n",
    "\n",
    "# Compute product P = rho_A * k_AB\n",
    "nu_AB = rho_A * k_AB\n",
    "\n",
    "# Propagate uncertainty for P\n",
    "relative_uncertainty_P = np.sqrt((sigma_rho_A / rho_A) ** 2 + (sigma_k_AB / k_AB) ** 2)\n",
    "sigma_nu = relative_uncertainty_P * nu_AB\n",
    "\n",
    "# Confidence interval\n",
    "lower_bound = nu_AB - sigma_nu\n",
    "upper_bound = nu_AB + sigma_nu\n",
    "\n",
    "# Results\n",
    "print(f'nuAB: {nu_AB:.4e}, sigma_nu: {sigma_nu:.4e}')\n"
   ]
  },
  {
   "cell_type": "code",
   "execution_count": 7,
   "id": "00a2b24c-94ed-4d02-af41-ce4eb5d1d84c",
   "metadata": {},
   "outputs": [
    {
     "name": "stdout",
     "output_type": "stream",
     "text": [
      "rhoAB: 2.9174e-02, sigma_rhoAB: 2.7873e-02\n"
     ]
    }
   ],
   "source": [
    "E_AB = 2.038e+1\n",
    "sigma_E_AB = 2.124e+1 \n",
    "\n",
    "rhoAB = nu_AB * E_AB\n",
    "\n",
    "# Compute relative uncertainty using propagation of errors\n",
    "relative_uncertainty = np.sqrt((sigma_nu / nu_AB) ** 2 + (sigma_E_AB / E_AB) ** 2)\n",
    "\n",
    "# Compute the absolute uncertainty\n",
    "sigma_rhoAB = relative_uncertainty * rhoAB\n",
    "\n",
    "# Compute confidence interval\n",
    "lower_bound = rhoAB - sigma_rhoAB\n",
    "upper_bound = rhoAB + sigma_rhoAB\n",
    "\n",
    "print(f'rhoAB: {rhoAB:.4e}, sigma_rhoAB: {sigma_rhoAB:.4e}')\n"
   ]
  },
  {
   "cell_type": "markdown",
   "id": "da2b3515-108b-4191-b68b-fb1d5b59b8a1",
   "metadata": {},
   "source": [
    "# Brute force"
   ]
  },
  {
   "cell_type": "code",
   "execution_count": 8,
   "id": "3f5571be-f1f0-4e52-8fc1-b814f5a86882",
   "metadata": {},
   "outputs": [
    {
     "name": "stdout",
     "output_type": "stream",
     "text": [
      "bf_k_AB: Value = 1.7470e-03, Uncertainty = 1.4346e-04\n",
      "bf_k_BA: Value = 5.8098e-02, Uncertainty = 8.4394e-03\n",
      "bf_rho_A: Value = 9.7080e-01, Uncertainty = 3.4990e-03\n",
      "bf_rho_B: Value = 2.9192e-02, Uncertainty = 3.4994e-03\n",
      "bf_rho_AB: Value = 6.6280e-02, Uncertainty = 7.4853e-03\n",
      "bf_nu_AB: Value = 1.6960e-03, Uncertainty = 1.3914e-04\n"
     ]
    }
   ],
   "source": [
    "import numpy as np\n",
    "\n",
    "Ntotal = 50000\n",
    "bf_Nab = 7.4\n",
    "bf_Nab_sd = 3.75\n",
    "bf_TinA = 4.9421e+4\n",
    "bf_TinA_sd = 2.4815e+2\n",
    "bf_TinB = 5.3652e+1\n",
    "bf_TinB_sd = 6.049e+1\n",
    "bf_TlastA = 4.9754e+4\n",
    "bf_TlastA_sd = 1.9148e+2\n",
    "bf_TlastB = 2.4613e+2\n",
    "bf_TlastB_sd = 1.9148e+2\n",
    "\n",
    "# Compute values and their uncertainties using error propagation (Taylor expansion)\n",
    "\n",
    "# k_AB = Nab / TlastA\n",
    "bf_k_AB = bf_Nab / bf_TlastA\n",
    "bf_sigma_k_AB = bf_k_AB * np.sqrt((bf_Nab_sd / bf_Nab) ** 2 + (bf_TlastA_sd / bf_TlastA) ** 2)\n",
    "\n",
    "# k_BA = Nab / TlastB\n",
    "bf_k_BA = bf_Nab / bf_TlastB\n",
    "bf_sigma_k_BA = bf_k_BA * np.sqrt((bf_Nab_sd / bf_Nab) ** 2 + (bf_TlastB_sd / bf_TlastB) ** 2)\n",
    "\n",
    "# rho_A = TlastA / Ntotal\n",
    "bf_rho_A = bf_TlastA / Ntotal\n",
    "bf_sigma_rho_A = bf_rho_A * (bf_TlastA_sd / bf_TlastA)\n",
    "\n",
    "# rho_B = TlastB / Ntotal\n",
    "bf_rho_B = bf_TlastB / Ntotal\n",
    "bf_sigma_rho_B = bf_rho_B * (bf_TlastB_sd / bf_TlastB)\n",
    "\n",
    "# rho_AB = (TlastA - TinA) / Ntotal\n",
    "bf_rho_AB = (bf_TlastA - bf_TinA) / Ntotal\n",
    "bf_sigma_rho_AB = (1 / Ntotal) * np.sqrt(bf_TlastA_sd ** 2 + bf_TinA_sd ** 2)\n",
    "\n",
    "# nu_AB = Nab / Ntotal\n",
    "bf_nu_AB = bf_Nab / Ntotal\n",
    "bf_sigma_nu_AB = bf_nu_AB * (bf_Nab_sd / bf_Nab)\n",
    "\n",
    "# Display results\n",
    "results = {\n",
    "    \"bf_k_AB\": (bf_k_AB, bf_sigma_k_AB),\n",
    "    \"bf_k_BA\": (bf_k_BA, bf_sigma_k_BA),\n",
    "    \"bf_rho_A\": (bf_rho_A, bf_sigma_rho_A),\n",
    "    \"bf_rho_B\": (bf_rho_B, bf_sigma_rho_B),\n",
    "    \"bf_rho_AB\": (bf_rho_AB, bf_sigma_rho_AB),\n",
    "    \"bf_nu_AB\": (bf_nu_AB, bf_sigma_nu_AB),\n",
    "}\n",
    "\n",
    "for key, (value, uncertainty) in results.items():\n",
    "    print(f\"{key}: Value = {value:.4e}, Uncertainty = {uncertainty:.4e}\")\n"
   ]
  },
  {
   "cell_type": "code",
   "execution_count": 5,
   "id": "c8da62ec-195c-4458-bc64-8845813d82fb",
   "metadata": {},
   "outputs": [],
   "source": [
    "# # brute force\n",
    "# bf_k_AB = 4.11e-3\n",
    "# bf_sigma_k_AB = 0.19e-3\n",
    "# bf_rho_A = 0.9409\n",
    "# bf_sigma_rho_A = 0.0045\n",
    "\n",
    "# bf_nu_AB = bf_k_AB * bf_rho_A\n",
    "\n",
    "# # Compute relative uncertainty using propagation of errors\n",
    "# relative_uncertainty = np.sqrt((bf_sigma_k_AB / bf_k_AB) ** 2 + (bf_sigma_rho_A / bf_rho_A) ** 2)\n",
    "\n",
    "# # Compute the absolute uncertainty\n",
    "# bf_sigma_nuAB = relative_uncertainty * bf_nu_AB\n",
    "\n",
    "\n",
    "# print(f'brute force nuAB: {bf_nu_AB:.4f}, sigma_nuAB: {bf_sigma_nuAB:.4f}')\n"
   ]
  },
  {
   "cell_type": "markdown",
   "id": "3628307d-dc91-4188-aa64-87e9404e5dfa",
   "metadata": {},
   "source": [
    "# stores all brute force data and FFS data"
   ]
  },
  {
   "cell_type": "markdown",
   "id": "bc0a57ba-604e-4ede-bba6-1fad9055d5f1",
   "metadata": {},
   "source": [
    "## MLCV, SortCNum, LJ7, beta = 5"
   ]
  },
  {
   "cell_type": "code",
   "execution_count": null,
   "id": "6261a616-67ed-4377-bcc8-66612d6bdbb1",
   "metadata": {},
   "outputs": [],
   "source": [
    "k_AB = 3.75e-2\n",
    "sigma_k_AB = 7.719e-3 \n",
    "\n",
    "k_BA = 7.7289e-2\n",
    "sigma_k_BA = 9.6843e-3\n",
    "\n",
    "E_AB = 5.045\n",
    "sigma_E_AB = 4.296 \n",
    "\n",
    "Ntotal = 50000\n",
    "bf_Nab = 1.3415e+3\n",
    "bf_Nab_sd = 3.4429e+1\n",
    "bf_TinA = 1.7205e+4\n",
    "bf_TinA_sd = 2.5031e+2\n",
    "bf_TinB = 1.2531e+3\n",
    "bf_TinB_sd = 4.2584e+1\n",
    "bf_TlastA = 3.6096e+4\n",
    "bf_TlastA_sd = 3.4144e+2\n",
    "bf_TlastB = 1.3902e+4\n",
    "bf_TlastB_sd = 3.4094e+2"
   ]
  },
  {
   "cell_type": "markdown",
   "id": "58156c26-d01c-45e0-979a-80f3f06fed68",
   "metadata": {},
   "source": [
    "## MLCV, SortCNum, LJ7, beta = 7"
   ]
  },
  {
   "cell_type": "code",
   "execution_count": null,
   "id": "42e8e6c1-35c0-4a91-aa5a-f6545b9f1911",
   "metadata": {},
   "outputs": [],
   "source": [
    "k_AB = 1.8184e-3\n",
    "sigma_k_AB = 1.2214e-4 \n",
    "\n",
    "k_BA = 4.1384e-2\n",
    "sigma_k_BA = 7.389e-3\n",
    "\n",
    "E_AB = 1.6749e+1\n",
    "sigma_E_AB = 1.5922e+1 \n",
    "\n",
    "Ntotal = 50000\n",
    "bf_Nab = 8.48e+1\n",
    "bf_Nab_sd = 6.957\n",
    "bf_TinA = 4.5226e+4\n",
    "bf_TinA_sd = 3.3086e+2\n",
    "bf_TinB = 2.1865e+2\n",
    "bf_TinB_sd = 4.9444e+1\n",
    "bf_TlastA = 4.854e+4\n",
    "bf_TlastA_sd = 1.7495e+2\n",
    "bf_TlastB = 1.4596e+3\n",
    "bf_TlastB_sd = 1.7497e+2"
   ]
  },
  {
   "cell_type": "markdown",
   "id": "36ef244b-e7d0-4af3-be1f-6c5dc76e5b8c",
   "metadata": {},
   "source": [
    "## MLCV, SortCNum, LJ7, beta = 9"
   ]
  },
  {
   "cell_type": "code",
   "execution_count": null,
   "id": "f667778d-eb40-442e-b3fd-bf41f4edafec",
   "metadata": {},
   "outputs": [],
   "source": [
    "k_AB = 1.33e-4\n",
    "sigma_k_AB = 9.6427e-6 \n",
    "\n",
    "k_BA = 1.475e-2\n",
    "sigma_k_BA = 1.9623e-3\n",
    "\n",
    "E_AB = 2.038e+1\n",
    "sigma_E_AB = 2.124e+1 \n",
    "\n",
    "Ntotal = 50000\n",
    "bf_Nab = 7.4\n",
    "bf_Nab_sd = 3.75\n",
    "bf_TinA = 4.9421e+4\n",
    "bf_TinA_sd = 2.4815e+2\n",
    "bf_TinB = 5.3652e+1\n",
    "bf_TinB_sd = 6.049e+1\n",
    "bf_TlastA = 4.9754e+4\n",
    "bf_TlastA_sd = 1.9148e+2\n",
    "bf_TlastB = 2.4613e+2\n",
    "bf_TlastB_sd = 1.9148e+2"
   ]
  },
  {
   "cell_type": "markdown",
   "id": "5563df91-4d16-402d-a3d0-e3f22a0ce2de",
   "metadata": {},
   "source": [
    "## mu2mu3 at beta = 10"
   ]
  },
  {
   "cell_type": "code",
   "execution_count": null,
   "id": "d191f0fe-bb99-47ad-a4e9-b3ac3d9e1e2c",
   "metadata": {},
   "outputs": [],
   "source": [
    "k_BA = 3.736e-2\n",
    "sigma_k_BA = 1.7899e-2\n",
    "\n",
    "k_AB = 4.9193e-1\n",
    "sigma_k_AB = 1.8916e-2 \n",
    "\n",
    "E_AB = 2.09158e-1\n",
    "sigma_E_AB = 1.6085e-1 \n",
    "\n",
    "Ntotal = 50000\n",
    "bf_Nab = 3.9759e+3\n",
    "bf_Nab_sd = 1.3352e+2\n",
    "bf_TinA = 1.6570e+3\n",
    "bf_TinA_sd = 5.2201e+1\n",
    "bf_TinB = 3.3704e+4\n",
    "bf_TinB_sd = 2.6020e+2\n",
    "bf_TlastA = 7.4651e+3\n",
    "bf_TlastA_sd = 2.3447e+2\n",
    "bf_TlastB = 4.2535e+4\n",
    "bf_TlastB_sd = 2.3447e+2"
   ]
  },
  {
   "cell_type": "markdown",
   "id": "6ba9eefe-ff05-485c-85a4-5fa0f90ba273",
   "metadata": {},
   "source": [
    "## mu2mu3 at beta = 15"
   ]
  },
  {
   "cell_type": "code",
   "execution_count": null,
   "id": "bb06f235-0e5d-42c0-8f3f-88f1f1fa0302",
   "metadata": {},
   "outputs": [],
   "source": [
    "k_BA = 2.271e-3\n",
    "sigma_k_BA = 1.2999e-3\n",
    "\n",
    "k_AB = 1.445e-1\n",
    "sigma_k_AB = 1.1425e-2 \n",
    "\n",
    "E_AB = 2.8156e-1\n",
    "sigma_E_AB = 2.2186e-1 \n",
    "\n",
    "Ntotal = 50000\n",
    "bf_Nab = 7.34e+2\n",
    "bf_Nab_sd = 7.997e+1\n",
    "bf_TinA = 2.167e+3\n",
    "bf_TinA_sd = 2.389e+2\n",
    "bf_TinB = 4.367e+4\n",
    "bf_TinB_sd = 5.824e+2\n",
    "bf_TlastA = 5.0486e+3\n",
    "bf_TlastA_sd = 5.625e+2\n",
    "bf_TlastB = 4.495e+4\n",
    "bf_TlastB_sd = 5.625e+2"
   ]
  },
  {
   "cell_type": "markdown",
   "id": "0f2b7b5f-db37-4749-94ad-8d266c33fa12",
   "metadata": {},
   "source": [
    "## mu2mu3 at beta = 20"
   ]
  },
  {
   "cell_type": "code",
   "execution_count": null,
   "id": "bf13ba56-d80f-4996-8746-b7551e16e2c3",
   "metadata": {},
   "outputs": [],
   "source": [
    "k_BA = 1.2957e-4\n",
    "sigma_k_BA = 8.5097e-5\n",
    "\n",
    "k_AB = 2.568e-2\n",
    "sigma_k_AB = 1.4931e-3\n",
    "\n",
    "E_AB = 6.796e-1\n",
    "sigma_E_AB = 5.368e-1 \n",
    "\n",
    "Ntotal = 50000\n",
    "bf_Nab = 9.1e+1\n",
    "bf_Nab_sd = 5.5773e+1\n",
    "bf_TinA = 9.9964e+2\n",
    "bf_TinA_sd = 6.2616e+2\n",
    "bf_TinB = 4.6161e+4\n",
    "bf_TinB_sd = 2.2029e+3\n",
    "bf_TlastA = 3.4832e+3\n",
    "bf_TlastA_sd = 2.19e+3\n",
    "bf_TlastB = 4.6517e+4\n",
    "bf_TlastB_sd = 2.19e+3"
   ]
  },
  {
   "cell_type": "markdown",
   "id": "92ca849a-d013-4b31-9677-d7e11591ea60",
   "metadata": {},
   "source": [
    "## LDA23 at beta = 10"
   ]
  },
  {
   "cell_type": "code",
   "execution_count": null,
   "id": "47558289-18b9-4261-9cbf-23cca5cd7f9d",
   "metadata": {},
   "outputs": [],
   "source": [
    "k_BA = 2.7198e-2\n",
    "sigma_k_BA = 1.8217e-2\n",
    "\n",
    "k_AB = 2.0306\n",
    "sigma_k_AB = 1.2504e-1 \n",
    "\n",
    "E_AB = 7.2159e-2\n",
    "sigma_E_AB = 4.9622e-2 \n",
    "\n",
    "Ntotal = 50000\n",
    "bf_Nab = 1.4758e+4\n",
    "bf_Nab_sd = 4.5428e+2\n",
    "bf_TinA = 2.7519e+3\n",
    "bf_TinA_sd = 8.7974e+1\n",
    "bf_TinB = 3.9704e+4\n",
    "bf_TinB_sd = 2.3721e+2\n",
    "bf_TlastA = 5.6729e+3\n",
    "bf_TlastA_sd = 1.8524e+2\n",
    "bf_TlastB = 4.4327e+4\n",
    "bf_TlastB_sd = 1.8524e+2"
   ]
  },
  {
   "cell_type": "markdown",
   "id": "f56ab6b9-d46e-4641-9c6e-bb20441e8660",
   "metadata": {},
   "source": [
    "## LDA23 at beta = 15"
   ]
  },
  {
   "cell_type": "code",
   "execution_count": null,
   "id": "5d43d7f7-7c04-4674-bc8e-9d62ae2b4e38",
   "metadata": {},
   "outputs": [],
   "source": [
    "k_BA = 8.198e-4\n",
    "sigma_k_BA = 1.337e-3\n",
    "\n",
    "k_AB = 6.485e-1\n",
    "sigma_k_AB = 3.79e-2 \n",
    "\n",
    "E_AB = 5.003e-2\n",
    "sigma_E_AB = 3.471e-2 \n",
    "\n",
    "Ntotal = 50000\n",
    "bf_Nab = 3.7082e+3\n",
    "bf_Nab_sd = 4.1614e+2\n",
    "bf_TinA = 3.3245e+3\n",
    "bf_TinA_sd = 3.6978e+2\n",
    "bf_TinB = 4.4441e+4\n",
    "bf_TinB_sd = 5.6510e+2\n",
    "bf_TlastA = 4.6519e+3\n",
    "bf_TlastA_sd = 5.1772e+2\n",
    "bf_TlastB = 4.5348e+4\n",
    "bf_TlastB_sd = 5.1772e+2"
   ]
  },
  {
   "cell_type": "markdown",
   "id": "05f3f7d3-b95e-4fff-8b7b-04a8ebfb25a7",
   "metadata": {},
   "source": [
    "## LDA23 at beta = 20"
   ]
  },
  {
   "cell_type": "code",
   "execution_count": null,
   "id": "43ed218e-46b9-478c-93e1-960047b0ba76",
   "metadata": {},
   "outputs": [],
   "source": [
    "k_BA = 1.0882e-13\n",
    "sigma_k_BA = 2.5662e-13\n",
    "\n",
    "k_AB = 1.8179e-1\n",
    "sigma_k_AB = 1.4573e-2 \n",
    "\n",
    "E_AB = 4.91617e-2\n",
    "sigma_E_AB = 3.42918e-2 \n",
    "\n",
    "Ntotal = 50000\n",
    "bf_Nab = 7.306e+2\n",
    "bf_Nab_sd = 4.5533e+2\n",
    "bf_TinA = 3.0446e+3\n",
    "bf_TinA_sd = 1.9117e+3\n",
    "bf_TinB = 4.6353e+4\n",
    "bf_TinB_sd = 2.1964e+3\n",
    "bf_TlastA = 3.4163e+3\n",
    "bf_TlastA_sd = 2.1493e+3\n",
    "bf_TlastB = 4.6584e+4\n",
    "bf_TlastB_sd = 2.1493e+3"
   ]
  },
  {
   "cell_type": "markdown",
   "id": "0690d958-da1d-42a0-b49b-95facae6146e",
   "metadata": {},
   "source": [
    "## MLCV LJ8 at beta = 10"
   ]
  },
  {
   "cell_type": "code",
   "execution_count": null,
   "id": "6b328168-5f38-4f6f-b879-6f9e27a24d68",
   "metadata": {},
   "outputs": [],
   "source": [
    "k_BA = 3.35e-2\n",
    "sigma_k_BA = 1.23e-2\n",
    "\n",
    "k_AB = 4.19e-1\n",
    "sigma_k_AB = 2.64e-2 \n",
    "\n",
    "Ntotal = 50000\n",
    "bf_Nab = 3.07e+3\n",
    "bf_Nab_sd = 6.09e+1\n",
    "bf_TinA = 8.68e+2\n",
    "bf_TinA_sd = 2.30e+1\n",
    "bf_TinB = 3.60e+4\n",
    "bf_TinB_sd = 1.732e+2\n",
    "bf_TlastA = 7.38e+3\n",
    "bf_TlastA_sd = 1.552e+2\n",
    "bf_TlastB = 4.26e+4\n",
    "bf_TlastB_sd = 1.552e+2"
   ]
  },
  {
   "cell_type": "markdown",
   "id": "197f06d4-7ca3-476c-8284-1c1443a51551",
   "metadata": {},
   "source": [
    "## MLCV LJ8 at beta = 15"
   ]
  },
  {
   "cell_type": "code",
   "execution_count": null,
   "id": "1f97b516-f1f0-4186-9517-5d1721098293",
   "metadata": {},
   "outputs": [],
   "source": [
    "k_BA = 2.63e-3\n",
    "sigma_k_BA = 2.83e-3\n",
    "\n",
    "k_AB = 3.65e-2\n",
    "sigma_k_AB = 1.78e-3 \n",
    "\n",
    "E_AB = 8.85e-1\n",
    "sigma_E_AB = 7.68e-1\n",
    "\n",
    "Ntotal = 50000\n",
    "bf_Nab = 2.03e+2\n",
    "bf_Nab_sd = 1.66e+1\n",
    "bf_TinA = 3.456e+3\n",
    "bf_TinA_sd = 3.98e+2\n",
    "bf_TinB = 4.11e+4\n",
    "bf_TinB_sd = 6.265e+2\n",
    "bf_TlastA = 5.82e+3\n",
    "bf_TlastA_sd = 6.65e+2\n",
    "bf_TlastB = 4.418e+4\n",
    "bf_TlastB_sd = 6.65e+2"
   ]
  },
  {
   "cell_type": "markdown",
   "id": "042dd2fe-14c3-4206-83fd-6a440fad41b2",
   "metadata": {},
   "source": [
    "## MLCV LJ8 at beta = 20"
   ]
  },
  {
   "cell_type": "code",
   "execution_count": null,
   "id": "a4b9d6dc-477c-4762-9dbe-7b5cb4c0b09b",
   "metadata": {},
   "outputs": [],
   "source": [
    "k_BA = 1.53e-4\n",
    "sigma_k_BA = 1.21e-4\n",
    "\n",
    "k_AB = 5.95e-3\n",
    "sigma_k_AB = 5.04e-4 \n",
    "\n",
    "E_AB = 7.125e-1\n",
    "sigma_E_AB = 5.813e-1\n",
    "\n",
    "Ntotal = 50000\n",
    "bf_Nab = 2.38e+1\n",
    "bf_Nab_sd = 1.26e+1\n",
    "bf_TinA = 3.195e+3\n",
    "bf_TinA_sd = 1.849e+3\n",
    "bf_TinB = 4.597e+4\n",
    "bf_TinB_sd = 2.29e+3\n",
    "bf_TlastA = 3.9422e+3\n",
    "bf_TlastA_sd = 2.288e+3\n",
    "bf_TlastB = 4.606e+4\n",
    "bf_TlastB_sd = 2.288e+3"
   ]
  },
  {
   "cell_type": "markdown",
   "id": "44bab1ac-99c4-4c87-82cb-e743c29831b4",
   "metadata": {},
   "source": [
    "## MLCV, LJ7 at beta = 5, new committor"
   ]
  },
  {
   "cell_type": "code",
   "execution_count": null,
   "id": "459d6813-bcf5-48a8-bd67-66e204cd6fc3",
   "metadata": {},
   "outputs": [],
   "source": [
    "k_BA = 9.653e-2\n",
    "sigma_k_BA = 1.375e-2\n",
    "\n",
    "k_AB = 8.8114e-2\n",
    "sigma_k_AB = 1.5049e-2 \n",
    "\n",
    "E_AB = 0.9125\n",
    "sigma_E_AB = 0.71486\n",
    "\n",
    "bf_Nab = 3.07e+3\n",
    "bf_Nab_sd = 5.46e+1\n",
    "bf_TinA = 2.19e+4 \n",
    "bf_TinA_sd = 4.02e+2\n",
    "bf_TinB = 3.956e+3\n",
    "bf_TinB_sd = 1.37e+2\n",
    "bf_TlastA = 3.0674e+4\n",
    "bf_TlastA_sd = 4.4934e+2\n",
    "bf_TlastB = 1.9326e+4\n",
    "bf_TlastB_sd = 4.4929e+2"
   ]
  },
  {
   "cell_type": "markdown",
   "id": "b50558e8-218f-4a33-92fb-2aec1e85b66b",
   "metadata": {},
   "source": [
    "## MLCV, LJ7 at beta = 7, new committor"
   ]
  },
  {
   "cell_type": "code",
   "execution_count": null,
   "id": "e38ddbd4-3db7-4dfa-a53d-c2cc38820c4d",
   "metadata": {},
   "outputs": [],
   "source": [
    "k_BA = 4.76e-2\n",
    "sigma_k_BA = 1.185e-2\n",
    "\n",
    "k_AB = 4.66e-3\n",
    "sigma_k_AB = 9.385e-4 \n",
    "\n",
    "E_AB = 1.526\n",
    "sigma_E_AB = 1.626\n",
    "\n",
    "\n",
    "Ntotal = 50000\n",
    "bf_Nab = 3.07e+2\n",
    "bf_Nab_sd = 2.13e+1\n",
    "bf_TinA = 4.495e+4\n",
    "bf_TinA_sd = 3.45e+2\n",
    "bf_TinB = 5.19e+2\n",
    "bf_TinB_sd = 1.293e+2\n",
    "bf_TlastA = 4.721e+4\n",
    "bf_TlastA_sd = 2.418e+2\n",
    "bf_TlastB = 2.793e+3\n",
    "bf_TlastB_sd = 2.418e+2"
   ]
  },
  {
   "cell_type": "markdown",
   "id": "523a82bf-afb0-496a-bbe2-9fed8233268b",
   "metadata": {},
   "source": [
    "## MLCV, LJ7 at beta = 5, new committor, Mar18"
   ]
  },
  {
   "cell_type": "code",
   "execution_count": null,
   "id": "13c533b7-55e9-4369-83ac-8fb1591b8efa",
   "metadata": {},
   "outputs": [],
   "source": [
    "k_BA = 8.123e-2\n",
    "sigma_k_BA = 2.245e-2\n",
    "\n",
    "k_AB = 6.9564e-2\n",
    "sigma_k_AB = 5.905e-3 \n",
    "\n",
    "E_AB = 1.4159\n",
    "sigma_E_AB = 1.1021\n",
    "\n",
    "\n",
    "Ntotal = 50000\n",
    "bf_Nab = 2.084e+3\n",
    "bf_Nab_sd = 2.003e+1\n",
    "bf_TinA = 1.6495e+4\n",
    "bf_TinA_sd = 1.7705e+2\n",
    "bf_TinB = 2.5292e+3\n",
    "bf_TinB_sd = 8.5217e+1\n",
    "bf_TlastA = 3.0818e+4\n",
    "bf_TlastA_sd = 2.6517e+2\n",
    "bf_TlastB = 1.9182e+4\n",
    "bf_TlastB_sd = 2.6490e+2"
   ]
  },
  {
   "cell_type": "markdown",
   "id": "1091e4a0-0d57-460c-ae1e-c8410c401369",
   "metadata": {},
   "source": [
    "## MLCV, LJ7 at beta = 7, new committor, Mar 18"
   ]
  },
  {
   "cell_type": "code",
   "execution_count": null,
   "id": "fcdc49ad-a6c7-4472-be09-19d12b57511b",
   "metadata": {},
   "outputs": [],
   "source": [
    "k_BA = 3.81e-2\n",
    "sigma_k_BA = 1.052e-2\n",
    "\n",
    "k_AB = 3.85e-3\n",
    "sigma_k_AB = 3.86e-4 \n",
    "\n",
    "E_AB = 2.486\n",
    "sigma_E_AB = 2.3184\n",
    "\n",
    "\n",
    "Ntotal = 50000\n",
    "bf_Nab = 1.8950e+2\n",
    "bf_Nab_sd = 1.041e+1\n",
    "bf_TinA = 4.26e+4\n",
    "bf_TinA_sd = 2.549e+2\n",
    "bf_TinB = 4.175e+2\n",
    "bf_TinB_sd = 6.473e+1\n",
    "bf_TlastA = 4.708e+4\n",
    "bf_TlastA_sd = 2.248e+2\n",
    "bf_TlastB = 2.919e+3\n",
    "bf_TlastB_sd = 2.246e+2"
   ]
  },
  {
   "cell_type": "markdown",
   "id": "79c69c6e-6544-413a-91f7-748881c91c0d",
   "metadata": {},
   "source": [
    "## MLCV, LJ7 at beta = 9, new committor, Mar 18"
   ]
  },
  {
   "cell_type": "code",
   "execution_count": null,
   "id": "2d43ce58-3c32-494b-bb0f-cae6903aff3a",
   "metadata": {},
   "outputs": [],
   "source": [
    "k_AB = 2.095e-4\n",
    "sigma_k_AB = 3.9075e-5\n",
    "\n",
    "k_BA = 1.9697e-2\n",
    "sigma_k_BA = 1.2472e-2\n",
    "\n",
    "E_AB = 3.5377\n",
    "sigma_E_AB = 4.2649\n",
    "\n",
    "\n",
    "Ntotal = 50000\n",
    "bf_Nab = 1.06e+1\n",
    "bf_Nab_sd = 3.5653\n",
    "bf_TinA = 3.7222e+4\n",
    "bf_TinA_sd = 1.4713e+2\n",
    "bf_TinB = 3.749e+1\n",
    "bf_TinB_sd = 4.5042e+1\n",
    "bf_TlastA = 4.9718e+4\n",
    "bf_TlastA_sd = 1.3525e+2\n",
    "bf_TlastB = 2.8226e+2\n",
    "bf_TlastB_sd = 1.3525e+2"
   ]
  },
  {
   "cell_type": "markdown",
   "id": "890a85c0-5290-42bf-ab46-0337c171ad99",
   "metadata": {},
   "source": [
    "## $(\\mu_2, \\mu_3)$, LJ7 at beta = 5"
   ]
  },
  {
   "cell_type": "code",
   "execution_count": null,
   "id": "3a2059c1-3a04-4078-8338-6c7fdda5672a",
   "metadata": {},
   "outputs": [],
   "source": [
    "k_BA = 7.8315e-2\n",
    "sigma_k_BA = 1.025e-2\n",
    "\n",
    "k_AB = 3.246e-2\n",
    "sigma_k_AB = 4.776e-3 \n",
    "\n",
    "E_AB = 4.260717\n",
    "sigma_E_AB = 3.7325\n",
    "\n",
    "Ntotal = 50000\n",
    "bf_Nab = 1.27775e+3\n",
    "bf_Nab_sd = 2.1864e+1\n",
    "bf_TinA = 2.1772e+4\n",
    "bf_TinA_sd = 2.9193e+2\n",
    "bf_TinB = 1.7462e+3\n",
    "bf_TinB_sd = 9.0724e+1\n",
    "bf_TlastA = 3.6904e+4\n",
    "bf_TlastA_sd = 3.017e+2\n",
    "bf_TlastB = 1.3095e+4\n",
    "bf_TlastB_sd = 3.0262e+2"
   ]
  },
  {
   "cell_type": "markdown",
   "id": "d6cf0243-a959-4e67-ac64-2fc2d0032a9e",
   "metadata": {},
   "source": [
    "## $(\\mu_2, \\mu_3)$, LJ7 at beta = 7"
   ]
  },
  {
   "cell_type": "code",
   "execution_count": null,
   "id": "5ae831ab-3190-4b16-b3a5-cb187de58634",
   "metadata": {},
   "outputs": [],
   "source": [
    "k_BA = 4.3263e-2\n",
    "sigma_k_BA = 9.4652e-3\n",
    "\n",
    "k_AB = 1.4202e-3\n",
    "sigma_k_AB = 2.3e-4 \n",
    "\n",
    "E_AB = 1.3986e+1\n",
    "sigma_E_AB = 1.4e+1\n",
    "\n",
    "Ntotal = 50000\n",
    "bf_Nab = 6.86e+1\n",
    "bf_Nab_sd = 8.3026\n",
    "bf_TinA = 2.9705e+4\n",
    "bf_TinA_sd = 1.9894e+2\n",
    "bf_TinB = 3.5438e+2\n",
    "bf_TinB_sd = 7.1194e+1\n",
    "bf_TlastA = 4.8555e+4\n",
    "bf_TlastA_sd = 1.8096e+2\n",
    "bf_TlastB = 1.444e+3\n",
    "bf_TlastB_sd = 1.8113e+2"
   ]
  },
  {
   "cell_type": "markdown",
   "id": "72737e2a-b3a3-42c4-84f5-db2fe697d4eb",
   "metadata": {},
   "source": [
    "## $(\\mu_2, \\mu_3)$, LJ7 at beta = 9"
   ]
  },
  {
   "cell_type": "code",
   "execution_count": null,
   "id": "00981878-d937-44c2-be7c-05413fea84cf",
   "metadata": {},
   "outputs": [],
   "source": [
    "k_BA = 1.23e-2\n",
    "sigma_k_BA = 4.77e-3\n",
    "\n",
    "k_AB = 4.58e-5\n",
    "sigma_k_AB = 2.74e-6 \n",
    "\n",
    "E_AB = 3.41543e+1\n",
    "sigma_E_AB = 3.7017e+1\n",
    "\n",
    "Ntotal = 50000\n",
    "bf_Nab = 3.1\n",
    "bf_Nab_sd = 2.38\n",
    "bf_TinA = 4.923e+4\n",
    "bf_TinA_sd = 2.713e+2\n",
    "bf_TinB = 6.279e+1\n",
    "bf_TinB_sd = 8.6747e+1\n",
    "bf_TlastA = 4.9839e+4\n",
    "bf_TlastA_sd = 1.6588e+2\n",
    "bf_TlastB = 1.6143e+2\n",
    "bf_TlastB_sd = 1.6588e+2"
   ]
  }
 ],
 "metadata": {
  "kernelspec": {
   "display_name": "Python 3 (ipykernel)",
   "language": "python",
   "name": "python3"
  },
  "language_info": {
   "codemirror_mode": {
    "name": "ipython",
    "version": 3
   },
   "file_extension": ".py",
   "mimetype": "text/x-python",
   "name": "python",
   "nbconvert_exporter": "python",
   "pygments_lexer": "ipython3",
   "version": "3.10.13"
  }
 },
 "nbformat": 4,
 "nbformat_minor": 5
}
