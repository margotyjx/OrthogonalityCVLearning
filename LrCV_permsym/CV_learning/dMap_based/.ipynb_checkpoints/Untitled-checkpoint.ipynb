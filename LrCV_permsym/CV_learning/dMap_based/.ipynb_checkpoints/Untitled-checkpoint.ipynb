{
 "cells": [
  {
   "cell_type": "code",
   "execution_count": 1,
   "id": "219e9f76-8890-49ba-8af0-a4209bfd4fb5",
   "metadata": {},
   "outputs": [],
   "source": [
    "import numpy as np"
   ]
  },
  {
   "cell_type": "code",
   "execution_count": 6,
   "id": "3e816955-08bb-4c39-be97-5f95ad256cc7",
   "metadata": {},
   "outputs": [
    {
     "name": "stdout",
     "output_type": "stream",
     "text": [
      "adjusted data shape:  (16878, 14)\n"
     ]
    }
   ],
   "source": [
    "import re\n",
    "sigma = 0.02\n",
    "fname = '/Users/jiaxinyuan/CV_learning/LJ7/data/LJ7delta_net.txt'\n",
    "\n",
    "LJtraj14D = [] \n",
    "with open(fname, \"r\") as f:\n",
    "    for line in f:\n",
    "        # cleaning the bad chars in line\n",
    "        line = line.strip()\n",
    "        line = line.strip(\" \\\\n\")\n",
    "        line = re.sub(r\"(-[0-9]+\\.)\", r\" \\1\", line)\n",
    "        values = [float(value) for value in line.split()]\n",
    "        LJtraj14D.append(values)\n",
    "data = np.array(LJtraj14D).astype(np.float32)\n",
    "print('adjusted data shape: ',np.shape(data))"
   ]
  },
  {
   "cell_type": "code",
   "execution_count": 7,
   "id": "59a2048e-4624-489a-8362-a2fe5dd710af",
   "metadata": {},
   "outputs": [],
   "source": [
    "from itertools import combinations, permutations\n",
    "total_dim = data.shape[1]\n",
    "new_data = np.zeros_like(data)\n",
    "dim = int(total_dim/2)\n",
    "atom = np.arange(dim)\n",
    "\n",
    "# for i in range(dim):\n",
    "#     comb = list(combinations(atom, i+1))\n",
    "#     for ind in range(len(comb)):\n",
    "#         comb_set = np.asarray(comb[ind])\n",
    "#         tmp1 = np.ones(data.shape[0])\n",
    "#         tmp2 = np.ones(data.shape[0])\n",
    "#         for item in comb_set:\n",
    "#             tmp1 *= data[:,item]\n",
    "#             tmp2 *= data[:,item + dim]\n",
    "#         new_data[:,i] += tmp1\n",
    "#         new_data[:,i+dim] += tmp2\n",
    "    \n",
    "    "
   ]
  },
  {
   "cell_type": "code",
   "execution_count": 15,
   "id": "914eb4c4-d6fa-4768-bb83-eb0471e142d9",
   "metadata": {},
   "outputs": [
    {
     "name": "stdout",
     "output_type": "stream",
     "text": [
      "tensor([1, 2, 3, 4, 5, 6, 2, 3, 4, 5, 6, 3, 4, 5, 6, 4, 5, 6, 5, 6, 6])\n",
      "[1 2 3 4 5 6 2 3 4 5 6 3 4 5 6 4 5 6 5 6 6]\n"
     ]
    }
   ],
   "source": [
    "# compute distances and symmetric polynomials or sorting\n",
    "import utils_LJ7\n",
    "import torch\n",
    "new = torch.from_numpy(data)\n",
    "r2 = utils_LJ7.dist2_pt(new)\n",
    "r,c = torch.torch.triu_indices(r2[0].shape[0], r2[0].shape[1], 1)\n",
    "print(c)\n",
    "r1,c1 = np.triu_indices_from(r2[0].detach().numpy(), k=1)\n",
    "print(c1)\n",
    "rd_vec = r2[:,r,c]\n",
    "# # rd_vec.sort(axis = 1)\n",
    "# print(rd_vec[0])\n",
    "\n",
    "# print(rd_vec)\n",
    "# print(r2[:,r1,c1])"
   ]
  },
  {
   "cell_type": "code",
   "execution_count": 16,
   "id": "25f43c8b-f135-4f59-9f6f-99ca136eddb9",
   "metadata": {},
   "outputs": [
    {
     "name": "stdout",
     "output_type": "stream",
     "text": [
      "[2.1418657e+01 1.9683772e+02 1.0240000e+03 3.3513906e+03 7.2449033e+03\n",
      " 1.0528000e+04 1.0200323e+04 6.3305576e+03 2.2800002e+03 3.6285730e+02\n",
      " 3.0238106e+01 4.0002515e+02 3.0400000e+03 1.4650360e+04 4.6631504e+04\n",
      " 9.8992000e+04 1.3812764e+05 1.2120762e+05 6.0480004e+04 1.3062862e+04\n",
      " 0.0000000e+00]\n"
     ]
    }
   ],
   "source": [
    "data = rd_vec.detach().numpy()\n",
    "total_dim = data.shape[1]\n",
    "new_data = np.zeros_like(data)\n",
    "dim = int(total_dim/2)\n",
    "atom = np.arange(dim)\n",
    "\n",
    "for i in range(dim):\n",
    "    comb = list(combinations(atom, i+1))\n",
    "    for ind in range(len(comb)):\n",
    "        comb_set = np.asarray(comb[ind])\n",
    "        tmp1 = np.ones(data.shape[0])\n",
    "        tmp2 = np.ones(data.shape[0])\n",
    "        for item in comb_set:\n",
    "            tmp1 *= data[:,item]\n",
    "            tmp2 *= data[:,item + dim]\n",
    "        new_data[:,i] += tmp1\n",
    "        new_data[:,i+dim] += tmp2\n",
    "\n",
    "print(new_data[0])"
   ]
  },
  {
   "cell_type": "code",
   "execution_count": 17,
   "id": "23e9d6f2-bf8d-4b2a-a0ed-930e64fb1f51",
   "metadata": {},
   "outputs": [],
   "source": [
    "from itertools import combinations, permutations\n",
    "data = rd_vec\n",
    "total_dim = data.shape[1]\n",
    "new_data = torch.zeros_like(data)\n",
    "dim = int(total_dim/2)\n",
    "atom = torch.arange(dim)\n"
   ]
  },
  {
   "cell_type": "code",
   "execution_count": null,
   "id": "733fb0ad-94d3-4c43-b997-c93c213e9c80",
   "metadata": {},
   "outputs": [],
   "source": []
  }
 ],
 "metadata": {
  "kernelspec": {
   "display_name": "Python 3 (ipykernel)",
   "language": "python",
   "name": "python3"
  },
  "language_info": {
   "codemirror_mode": {
    "name": "ipython",
    "version": 3
   },
   "file_extension": ".py",
   "mimetype": "text/x-python",
   "name": "python",
   "nbconvert_exporter": "python",
   "pygments_lexer": "ipython3",
   "version": "3.9.17"
  }
 },
 "nbformat": 4,
 "nbformat_minor": 5
}
